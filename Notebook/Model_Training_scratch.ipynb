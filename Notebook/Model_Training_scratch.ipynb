{
 "cells": [
  {
   "cell_type": "code",
   "execution_count": 18,
   "id": "c8af292b",
   "metadata": {},
   "outputs": [],
   "source": [
    "import numpy as np\n",
    "import tensorflow as tf\n",
    "from tensorflow.keras.preprocessing import sequence\n",
    "from tensorflow.keras.models import Sequential\n",
    "from tensorflow.keras.layers import Embedding,SimpleRNN,Dense,Bidirectional,Dropout\n",
    "import json\n",
    "import pickle\n",
    "import os\n",
    "from pathlib import Path"
   ]
  },
  {
   "cell_type": "code",
   "execution_count": 19,
   "id": "affc6bfb",
   "metadata": {},
   "outputs": [],
   "source": [
    "def build_path(*path_parts):\n",
    "    base_dir = Path.cwd().parent\n",
    "    return os.path.join(base_dir, *path_parts)"
   ]
  },
  {
   "cell_type": "code",
   "execution_count": 20,
   "id": "1412a177",
   "metadata": {},
   "outputs": [
    {
     "name": "stdout",
     "output_type": "stream",
     "text": [
      "Training data shape: (40000, 400), Training labels shape: (40000,)\n",
      "Testing data shape: (10000, 400), Testing labels shape: (10000,)\n"
     ]
    }
   ],
   "source": [
    "X_test = np.load(build_path('Data', 'X_test.npy'))\n",
    "y_test = np.load(build_path('Data', 'y_test.npy'))\n",
    "X_train = np.load(build_path('Data', 'X_train.npy'))\n",
    "y_train = np.load(build_path('Data', 'y_train.npy'))\n",
    "\n",
    "# Print the shape of the data\n",
    "print(f'Training data shape: {X_train.shape}, Training labels shape: {y_train.shape}')\n",
    "print(f'Testing data shape: {X_test.shape}, Testing labels shape: {y_test.shape}')\n"
   ]
  },
  {
   "cell_type": "code",
   "execution_count": 21,
   "id": "a0d170a8",
   "metadata": {},
   "outputs": [],
   "source": [
    "vocab_size = 10000\n",
    "max_len = 400\n",
    "\n",
    "model = tf.keras.Sequential([\n",
    "    Embedding(input_dim=vocab_size, output_dim=64, input_length=max_len),\n",
    "    Bidirectional(tf.keras.layers.LSTM(64)),\n",
    "    Dense(64, activation='relu'),\n",
    "    Dropout(0.5),\n",
    "    Dense(1, activation='sigmoid')\n",
    "])\n"
   ]
  },
  {
   "cell_type": "code",
   "execution_count": 22,
   "id": "61ac27be",
   "metadata": {},
   "outputs": [
    {
     "name": "stdout",
     "output_type": "stream",
     "text": [
      "Model: \"sequential_4\"\n",
      "_________________________________________________________________\n",
      " Layer (type)                Output Shape              Param #   \n",
      "=================================================================\n",
      " embedding_2 (Embedding)     (None, 400, 64)           640000    \n",
      "                                                                 \n",
      " bidirectional_1 (Bidirecti  (None, 128)               66048     \n",
      " onal)                                                           \n",
      "                                                                 \n",
      " dense_3 (Dense)             (None, 64)                8256      \n",
      "                                                                 \n",
      " dropout_1 (Dropout)         (None, 64)                0         \n",
      "                                                                 \n",
      " dense_4 (Dense)             (None, 1)                 65        \n",
      "                                                                 \n",
      "=================================================================\n",
      "Total params: 714369 (2.73 MB)\n",
      "Trainable params: 714369 (2.73 MB)\n",
      "Non-trainable params: 0 (0.00 Byte)\n",
      "_________________________________________________________________\n"
     ]
    }
   ],
   "source": [
    "model.summary()"
   ]
  },
  {
   "cell_type": "code",
   "execution_count": 23,
   "id": "76d97c95",
   "metadata": {},
   "outputs": [],
   "source": [
    "model.compile(optimizer='adam',loss='binary_crossentropy',metrics=['accuracy'])"
   ]
  },
  {
   "cell_type": "code",
   "execution_count": 24,
   "id": "1d08a8b8",
   "metadata": {},
   "outputs": [
    {
     "data": {
      "text/plain": [
       "<keras.src.callbacks.EarlyStopping at 0x722ebd88c210>"
      ]
     },
     "execution_count": 24,
     "metadata": {},
     "output_type": "execute_result"
    }
   ],
   "source": [
    "## Create an instance of EarlyStoppping Callback\n",
    "from tensorflow.keras.callbacks import EarlyStopping\n",
    "earlystopping=EarlyStopping(monitor='val_loss',patience=5,restore_best_weights=True)\n",
    "earlystopping"
   ]
  },
  {
   "cell_type": "code",
   "execution_count": 25,
   "id": "b235f851",
   "metadata": {},
   "outputs": [
    {
     "name": "stdout",
     "output_type": "stream",
     "text": [
      "Epoch 1/10\n",
      "1250/1250 [==============================] - 134s 106ms/step - loss: 0.4654 - accuracy: 0.7836 - val_loss: 0.4102 - val_accuracy: 0.8120\n",
      "Epoch 2/10\n",
      "1250/1250 [==============================] - 149s 119ms/step - loss: 0.3037 - accuracy: 0.8827 - val_loss: 0.3120 - val_accuracy: 0.8816\n",
      "Epoch 3/10\n",
      "1250/1250 [==============================] - 149s 120ms/step - loss: 0.2371 - accuracy: 0.9122 - val_loss: 0.3059 - val_accuracy: 0.8799\n",
      "Epoch 4/10\n",
      "1250/1250 [==============================] - 120s 96ms/step - loss: 0.2023 - accuracy: 0.9265 - val_loss: 0.3061 - val_accuracy: 0.8825\n",
      "Epoch 5/10\n",
      "1250/1250 [==============================] - 130s 104ms/step - loss: 0.1923 - accuracy: 0.9304 - val_loss: 0.4008 - val_accuracy: 0.8536\n",
      "Epoch 6/10\n",
      "1250/1250 [==============================] - 120s 96ms/step - loss: 0.1274 - accuracy: 0.9579 - val_loss: 0.4023 - val_accuracy: 0.8763\n",
      "Epoch 7/10\n",
      "1250/1250 [==============================] - 120s 96ms/step - loss: 0.1572 - accuracy: 0.9412 - val_loss: 0.3697 - val_accuracy: 0.8700\n",
      "Epoch 8/10\n",
      "1250/1250 [==============================] - 120s 96ms/step - loss: 0.1134 - accuracy: 0.9613 - val_loss: 0.4150 - val_accuracy: 0.8658\n"
     ]
    }
   ],
   "source": [
    "## Train the model with early sstopping\n",
    "history=model.fit(\n",
    "    X_train,y_train,epochs=10,batch_size=32,\n",
    "    validation_data=(X_test,y_test),\n",
    "    validation_split=0.2,\n",
    "    callbacks=[earlystopping],\n",
    ")"
   ]
  },
  {
   "cell_type": "code",
   "execution_count": 26,
   "id": "3f55fb54",
   "metadata": {},
   "outputs": [
    {
     "name": "stdout",
     "output_type": "stream",
     "text": [
      "313/313 [==============================] - 7s 21ms/step - loss: 0.3059 - accuracy: 0.8799\n",
      "Test Accuracy: 0.8799\n"
     ]
    }
   ],
   "source": [
    "loss, accuracy = model.evaluate(X_test, y_test)\n",
    "print(f\"Test Accuracy: {accuracy:.4f}\")\n"
   ]
  },
  {
   "cell_type": "code",
   "execution_count": 27,
   "id": "a742a912",
   "metadata": {},
   "outputs": [
    {
     "name": "stderr",
     "output_type": "stream",
     "text": [
      "/mnt/utsav-raj/Project/IMDB/venv/lib/python3.11/site-packages/keras/src/engine/training.py:3103: UserWarning: You are saving your model as an HDF5 file via `model.save()`. This file format is considered legacy. We recommend using instead the native Keras format, e.g. `model.save('my_model.keras')`.\n",
      "  saving_api.save_model(\n"
     ]
    }
   ],
   "source": [
    "## Save model file\n",
    "model.save(build_path('Model', 'Model_scratch.h5'))"
   ]
  },
  {
   "cell_type": "code",
   "execution_count": null,
   "id": "3dea8d89",
   "metadata": {},
   "outputs": [],
   "source": []
  }
 ],
 "metadata": {
  "kernelspec": {
   "display_name": "venv",
   "language": "python",
   "name": "python3"
  },
  "language_info": {
   "codemirror_mode": {
    "name": "ipython",
    "version": 3
   },
   "file_extension": ".py",
   "mimetype": "text/x-python",
   "name": "python",
   "nbconvert_exporter": "python",
   "pygments_lexer": "ipython3",
   "version": "3.11.11"
  }
 },
 "nbformat": 4,
 "nbformat_minor": 5
}
